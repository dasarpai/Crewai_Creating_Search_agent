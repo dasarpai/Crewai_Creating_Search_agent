{
 "cells": [
  {
   "cell_type": "markdown",
   "metadata": {},
   "source": [
    "You can download the `requirements.txt` for this course from the workspace of this lab. `File --> Open...`"
   ]
  },
  {
   "cell_type": "markdown",
   "metadata": {},
   "source": [
    "# L2: Create Agents to Research and Write an Article\n",
    "\n",
    "In this lesson, you will be introduced to the foundational concepts of multi-agent systems and get an overview of the crewAI framework."
   ]
  },
  {
   "cell_type": "markdown",
   "metadata": {},
   "source": [
    "The libraries are already installed in the classroom. If you're running this notebook on your own machine, you can install the following:\n",
    "```Python\n",
    "!pip install crewai==0.28.8 crewai_tools==0.1.6 langchain_community==0.0.29\n",
    "```"
   ]
  },
  {
   "cell_type": "code",
   "execution_count": 1,
   "metadata": {
    "height": 64
   },
   "outputs": [],
   "source": [
    "# Warning control\n",
    "import warnings\n",
    "warnings.filterwarnings('ignore')"
   ]
  },
  {
   "cell_type": "markdown",
   "metadata": {},
   "source": [
    "- Import from the crewAI libray."
   ]
  },
  {
   "cell_type": "code",
   "execution_count": 2,
   "metadata": {
    "height": 30
   },
   "outputs": [],
   "source": [
    "from crewai import Agent, Task, Crew"
   ]
  },
  {
   "cell_type": "markdown",
   "metadata": {},
   "source": [
    "- As a LLM for your agents, you'll be using OpenAI's `gpt-3.5-turbo`.\n",
    "\n",
    "**Optional Note:** crewAI also allow other popular models to be used as a LLM for your Agents. You can see some of the examples at the [bottom of the notebook](#1)."
   ]
  },
  {
   "cell_type": "code",
   "execution_count": 3,
   "metadata": {
    "height": 115
   },
   "outputs": [],
   "source": [
    "import os\n",
    "from utils import get_openai_api_key\n",
    "\n",
    "openai_api_key = get_openai_api_key()\n",
    "os.environ[\"OPENAI_MODEL_NAME\"] = 'gpt-3.5-turbo'"
   ]
  },
  {
   "cell_type": "markdown",
   "metadata": {},
   "source": [
    "## Creating Agents\n",
    "\n",
    "- Define your Agents, and provide them a `role`, `goal` and `backstory`.\n",
    "- It has been seen that LLMs perform better when they are role playing."
   ]
  },
  {
   "cell_type": "markdown",
   "metadata": {},
   "source": [
    "### Agent: Planner\n",
    "\n",
    "**Note**: The benefit of using _multiple strings_ :\n",
    "```Python\n",
    "varname = \"line 1 of text\"\n",
    "          \"line 2 of text\"\n",
    "```\n",
    "\n",
    "versus the _triple quote docstring_:\n",
    "```Python\n",
    "varname = \"\"\"line 1 of text\n",
    "             line 2 of text\n",
    "          \"\"\"\n",
    "```\n",
    "is that it can avoid adding those whitespaces and newline characters, making it better formatted to be passed to the LLM."
   ]
  },
  {
   "cell_type": "code",
   "execution_count": 4,
   "metadata": {
    "height": 251
   },
   "outputs": [],
   "source": [
    "planner = Agent(\n",
    "    role=\"Content Planner\",\n",
    "    goal=\"Plan engaging and factually accurate content on {topic}\",\n",
    "    backstory=\"You're working on planning a blog article \"\n",
    "              \"about the topic: {topic}.\"\n",
    "              \"You collect information that helps the \"\n",
    "              \"audience learn something \"\n",
    "              \"and make informed decisions. \"\n",
    "              \"Your work is the basis for \"\n",
    "              \"the Content Writer to write an article on this topic.\",\n",
    "    allow_delegation=False,\n",
    "\tverbose=True\n",
    ")"
   ]
  },
  {
   "cell_type": "markdown",
   "metadata": {},
   "source": [
    "### Agent: Writer"
   ]
  },
  {
   "cell_type": "code",
   "execution_count": 5,
   "metadata": {
    "height": 387
   },
   "outputs": [],
   "source": [
    "writer = Agent(\n",
    "    role=\"Content Writer\",\n",
    "    goal=\"Write insightful and factually accurate \"\n",
    "         \"opinion piece about the topic: {topic}\",\n",
    "    backstory=\"You're working on a writing \"\n",
    "              \"a new opinion piece about the topic: {topic}. \"\n",
    "              \"You base your writing on the work of \"\n",
    "              \"the Content Planner, who provides an outline \"\n",
    "              \"and relevant context about the topic. \"\n",
    "              \"You follow the main objectives and \"\n",
    "              \"direction of the outline, \"\n",
    "              \"as provide by the Content Planner. \"\n",
    "              \"You also provide objective and impartial insights \"\n",
    "              \"and back them up with information \"\n",
    "              \"provide by the Content Planner. \"\n",
    "              \"You acknowledge in your opinion piece \"\n",
    "              \"when your statements are opinions \"\n",
    "              \"as opposed to objective statements.\",\n",
    "    allow_delegation=False,\n",
    "    verbose=True\n",
    ")"
   ]
  },
  {
   "cell_type": "markdown",
   "metadata": {},
   "source": [
    "### Agent: Editor"
   ]
  },
  {
   "cell_type": "code",
   "execution_count": 6,
   "metadata": {
    "height": 285
   },
   "outputs": [],
   "source": [
    "editor = Agent(\n",
    "    role=\"Editor\",\n",
    "    goal=\"Edit a given blog post to align with \"\n",
    "         \"the writing style of the organization. \",\n",
    "    backstory=\"You are an editor who receives a blog post \"\n",
    "              \"from the Content Writer. \"\n",
    "              \"Your goal is to review the blog post \"\n",
    "              \"to ensure that it follows journalistic best practices,\"\n",
    "              \"provides balanced viewpoints \"\n",
    "              \"when providing opinions or assertions, \"\n",
    "              \"and also avoids major controversial topics \"\n",
    "              \"or opinions when possible.\",\n",
    "    allow_delegation=False,\n",
    "    verbose=True\n",
    ")"
   ]
  },
  {
   "cell_type": "markdown",
   "metadata": {},
   "source": [
    "## Creating Tasks\n",
    "\n",
    "- Define your Tasks, and provide them a `description`, `expected_output` and `agent`."
   ]
  },
  {
   "cell_type": "markdown",
   "metadata": {},
   "source": [
    "### Task: Plan"
   ]
  },
  {
   "cell_type": "code",
   "execution_count": 7,
   "metadata": {
    "height": 285
   },
   "outputs": [],
   "source": [
    "plan = Task(\n",
    "    description=(\n",
    "        \"1. Prioritize the latest trends, key players, \"\n",
    "            \"and noteworthy news on {topic}.\\n\"\n",
    "        \"2. Identify the target audience, considering \"\n",
    "            \"their interests and pain points.\\n\"\n",
    "        \"3. Develop a detailed content outline including \"\n",
    "            \"an introduction, key points, and a call to action.\\n\"\n",
    "        \"4. Include SEO keywords and relevant data or sources.\"\n",
    "    ),\n",
    "    expected_output=\"A comprehensive content plan document \"\n",
    "        \"with an outline, audience analysis, \"\n",
    "        \"SEO keywords, and resources.\",\n",
    "    agent=planner,\n",
    ")"
   ]
  },
  {
   "cell_type": "markdown",
   "metadata": {},
   "source": [
    "### Task: Write"
   ]
  },
  {
   "cell_type": "code",
   "execution_count": 8,
   "metadata": {
    "height": 336
   },
   "outputs": [],
   "source": [
    "write = Task(\n",
    "    description=(\n",
    "        \"1. Use the content plan to craft a compelling \"\n",
    "            \"blog post on {topic}.\\n\"\n",
    "        \"2. Incorporate SEO keywords naturally.\\n\"\n",
    "\t\t\"3. Sections/Subtitles are properly named \"\n",
    "            \"in an engaging manner.\\n\"\n",
    "        \"4. Ensure the post is structured with an \"\n",
    "            \"engaging introduction, insightful body, \"\n",
    "            \"and a summarizing conclusion.\\n\"\n",
    "        \"5. Proofread for grammatical errors and \"\n",
    "            \"alignment with the brand's voice.\\n\"\n",
    "    ),\n",
    "    expected_output=\"A well-written blog post \"\n",
    "        \"in markdown format, ready for publication, \"\n",
    "        \"each section should have 2 or 3 paragraphs.\",\n",
    "    agent=writer,\n",
    ")"
   ]
  },
  {
   "cell_type": "markdown",
   "metadata": {},
   "source": [
    "### Task: Edit"
   ]
  },
  {
   "cell_type": "code",
   "execution_count": 9,
   "metadata": {
    "height": 183
   },
   "outputs": [],
   "source": [
    "edit = Task(\n",
    "    description=(\"Proofread the given blog post for \"\n",
    "                 \"grammatical errors and \"\n",
    "                 \"alignment with the brand's voice.\"),\n",
    "    expected_output=\"A well-written blog post in markdown format, \"\n",
    "                    \"ready for publication, \"\n",
    "                    \"each section should have 2 or 3 paragraphs.\",\n",
    "    agent=editor\n",
    ")"
   ]
  },
  {
   "cell_type": "markdown",
   "metadata": {},
   "source": [
    "## Creating the Crew\n",
    "\n",
    "- Create your crew of Agents\n",
    "- Pass the tasks to be performed by those agents.\n",
    "    - **Note**: *For this simple example*, the tasks will be performed sequentially (i.e they are dependent on each other), so the _order_ of the task in the list _matters_.\n",
    "- `verbose=2` allows you to see all the logs of the execution. "
   ]
  },
  {
   "cell_type": "code",
   "execution_count": 10,
   "metadata": {
    "height": 98
   },
   "outputs": [],
   "source": [
    "crew = Crew(\n",
    "    agents=[planner, writer, editor],\n",
    "    tasks=[plan, write, edit],\n",
    "    verbose=2\n",
    ")"
   ]
  },
  {
   "cell_type": "markdown",
   "metadata": {},
   "source": [
    "## Running the Crew"
   ]
  },
  {
   "cell_type": "markdown",
   "metadata": {},
   "source": [
    "**Note**: LLMs can provide different outputs for they same input, so what you get might be different than what you see in the video."
   ]
  },
  {
   "cell_type": "code",
   "execution_count": 11,
   "metadata": {
    "height": 47
   },
   "outputs": [
    {
     "name": "stdout",
     "output_type": "stream",
     "text": [
      "\u001b[1m\u001b[95m [DEBUG]: == Working Agent: Content Planner\u001b[00m\n",
      "\u001b[1m\u001b[95m [INFO]: == Starting Task: 1. Prioritize the latest trends, key players, and noteworthy news on Artificial Intelligence.\n",
      "2. Identify the target audience, considering their interests and pain points.\n",
      "3. Develop a detailed content outline including an introduction, key points, and a call to action.\n",
      "4. Include SEO keywords and relevant data or sources.\u001b[00m\n",
      "\n",
      "\n",
      "\u001b[1m> Entering new CrewAgentExecutor chain...\u001b[0m\n",
      "\u001b[32;1m\u001b[1;3mI now can give a great answer\n",
      "\n",
      "Final Answer:\n",
      "Title: Harnessing the Power of Artificial Intelligence: Trends, Players, and News\n",
      "\n",
      "Introduction:\n",
      "Artificial Intelligence (AI) has revolutionized the way we interact with technology, making tasks easier and more efficient. In this blog article, we will explore the latest trends, key players, and noteworthy news in the field of AI, providing valuable insights for our readers.\n",
      "\n",
      "Key Points:\n",
      "1. Latest Trends in AI:\n",
      "- Machine Learning and Deep Learning advancements\n",
      "- Natural Language Processing (NLP) applications\n",
      "- AI-driven automation in various industries\n",
      "- Ethical considerations in AI development\n",
      "\n",
      "2. Key Players in the AI Industry:\n",
      "- Google's DeepMind\n",
      "- IBM Watson\n",
      "- Amazon Web Services (AWS)\n",
      "- Microsoft Azure\n",
      "- OpenAI\n",
      "\n",
      "3. Noteworthy News in AI:\n",
      "- Breakthroughs in AI healthcare solutions\n",
      "- AI applications in autonomous vehicles\n",
      "- AI ethics controversies and discussions\n",
      "- AI and cybersecurity advancements\n",
      "\n",
      "Target Audience:\n",
      "Our target audience includes tech enthusiasts, business professionals, and anyone interested in the cutting-edge developments in Artificial Intelligence. They are looking to stay informed about the latest trends and advancements in AI, as well as understand how AI can impact their industries and daily lives.\n",
      "\n",
      "Call to Action:\n",
      "To stay updated on the latest news and trends in Artificial Intelligence, subscribe to our newsletter for bi-weekly updates and exclusive content.\n",
      "\n",
      "SEO Keywords:\n",
      "- Artificial Intelligence trends\n",
      "- Key players in AI\n",
      "- Latest news in Artificial Intelligence\n",
      "- AI advancements\n",
      "- Machine Learning developments\n",
      "\n",
      "Resources:\n",
      "1. \"The State of AI in 2021\" - Forbes\n",
      "2. \"Top AI Companies to Watch in 2021\" - TechCrunch\n",
      "3. \"Ethical Considerations in AI Development\" - Harvard Business Review\n",
      "4. \"AI in Healthcare: Transforming the Industry\" - McKinsey & Company\n",
      "\n",
      "By following this content plan, we aim to provide our audience with valuable information on Artificial Intelligence while engaging them with relevant and up-to-date insights.\u001b[0m\n",
      "\n",
      "\u001b[1m> Finished chain.\u001b[0m\n",
      "\u001b[1m\u001b[92m [DEBUG]: == [Content Planner] Task output: Title: Harnessing the Power of Artificial Intelligence: Trends, Players, and News\n",
      "\n",
      "Introduction:\n",
      "Artificial Intelligence (AI) has revolutionized the way we interact with technology, making tasks easier and more efficient. In this blog article, we will explore the latest trends, key players, and noteworthy news in the field of AI, providing valuable insights for our readers.\n",
      "\n",
      "Key Points:\n",
      "1. Latest Trends in AI:\n",
      "- Machine Learning and Deep Learning advancements\n",
      "- Natural Language Processing (NLP) applications\n",
      "- AI-driven automation in various industries\n",
      "- Ethical considerations in AI development\n",
      "\n",
      "2. Key Players in the AI Industry:\n",
      "- Google's DeepMind\n",
      "- IBM Watson\n",
      "- Amazon Web Services (AWS)\n",
      "- Microsoft Azure\n",
      "- OpenAI\n",
      "\n",
      "3. Noteworthy News in AI:\n",
      "- Breakthroughs in AI healthcare solutions\n",
      "- AI applications in autonomous vehicles\n",
      "- AI ethics controversies and discussions\n",
      "- AI and cybersecurity advancements\n",
      "\n",
      "Target Audience:\n",
      "Our target audience includes tech enthusiasts, business professionals, and anyone interested in the cutting-edge developments in Artificial Intelligence. They are looking to stay informed about the latest trends and advancements in AI, as well as understand how AI can impact their industries and daily lives.\n",
      "\n",
      "Call to Action:\n",
      "To stay updated on the latest news and trends in Artificial Intelligence, subscribe to our newsletter for bi-weekly updates and exclusive content.\n",
      "\n",
      "SEO Keywords:\n",
      "- Artificial Intelligence trends\n",
      "- Key players in AI\n",
      "- Latest news in Artificial Intelligence\n",
      "- AI advancements\n",
      "- Machine Learning developments\n",
      "\n",
      "Resources:\n",
      "1. \"The State of AI in 2021\" - Forbes\n",
      "2. \"Top AI Companies to Watch in 2021\" - TechCrunch\n",
      "3. \"Ethical Considerations in AI Development\" - Harvard Business Review\n",
      "4. \"AI in Healthcare: Transforming the Industry\" - McKinsey & Company\n",
      "\n",
      "By following this content plan, we aim to provide our audience with valuable information on Artificial Intelligence while engaging them with relevant and up-to-date insights.\n",
      "\n",
      "\u001b[00m\n",
      "\u001b[1m\u001b[95m [DEBUG]: == Working Agent: Content Writer\u001b[00m\n",
      "\u001b[1m\u001b[95m [INFO]: == Starting Task: 1. Use the content plan to craft a compelling blog post on Artificial Intelligence.\n",
      "2. Incorporate SEO keywords naturally.\n",
      "3. Sections/Subtitles are properly named in an engaging manner.\n",
      "4. Ensure the post is structured with an engaging introduction, insightful body, and a summarizing conclusion.\n",
      "5. Proofread for grammatical errors and alignment with the brand's voice.\n",
      "\u001b[00m\n",
      "\n",
      "\n",
      "\u001b[1m> Entering new CrewAgentExecutor chain...\u001b[0m\n",
      "\u001b[32;1m\u001b[1;3mI am ready to craft a compelling blog post on Artificial Intelligence that will engage our target audience and provide valuable insights based on the content plan provided.\n",
      "\n",
      "Final Answer:\n",
      "\n",
      "# Harnessing the Power of Artificial Intelligence: Trends, Players, and News\n",
      "\n",
      "Artificial Intelligence (AI) has become an integral part of our daily lives, transforming the way we interact with technology and improving efficiency across various industries. In this blog post, we will delve into the latest trends, key players, and noteworthy news in the field of AI, offering valuable insights for tech enthusiasts, business professionals, and anyone interested in cutting-edge developments in AI.\n",
      "\n",
      "## Latest Trends in AI\n",
      "\n",
      "One of the most prominent trends in AI is the advancements in Machine Learning and Deep Learning technologies. These innovations have enabled AI systems to learn from data, recognize patterns, and make decisions with minimal human intervention. Additionally, Natural Language Processing (NLP) applications have revolutionized the way we communicate with AI-powered devices, enhancing user experiences and expanding the capabilities of virtual assistants.\n",
      "\n",
      "AI-driven automation is another key trend, with industries leveraging AI technologies to streamline processes, increase productivity, and reduce operational costs. However, as AI continues to evolve, ethical considerations in AI development have become increasingly important. Ensuring transparency, accountability, and fairness in AI systems is crucial to building trust and mitigating potential risks associated with AI implementation.\n",
      "\n",
      "## Key Players in the AI Industry\n",
      "\n",
      "Several tech giants and innovative startups are leading the way in the AI industry, driving advancements and shaping the future of AI technology. Google's DeepMind, known for its contributions to AI research and development, continues to push the boundaries of AI capabilities. IBM Watson, Amazon Web Services (AWS), and Microsoft Azure are also key players in the AI space, offering AI-powered solutions and services to businesses worldwide. OpenAI, a nonprofit organization dedicated to advancing AI for the benefit of humanity, is another notable player in the industry.\n",
      "\n",
      "## Noteworthy News in AI\n",
      "\n",
      "In recent news, breakthroughs in AI healthcare solutions have shown promise in revolutionizing the healthcare industry, improving patient care, and enhancing medical diagnosis and treatment. AI applications in autonomous vehicles have also gained momentum, with companies investing in AI technologies to develop self-driving cars and enhance road safety. However, AI ethics controversies and discussions have sparked debates surrounding the responsible use of AI, privacy concerns, and bias in AI algorithms. On the cybersecurity front, AI advancements are being utilized to enhance threat detection, protect sensitive data, and strengthen cybersecurity defenses.\n",
      "\n",
      "In conclusion, Artificial Intelligence continues to drive innovation, transform industries, and shape our future. By staying informed about the latest trends, key players, and noteworthy news in AI, we can harness the power of AI to drive positive change and create a more efficient and sustainable future.\n",
      "\n",
      "To stay updated on the latest news and trends in Artificial Intelligence, subscribe to our newsletter for bi-weekly updates and exclusive content.\u001b[0m\n",
      "\n",
      "\u001b[1m> Finished chain.\u001b[0m\n",
      "\u001b[1m\u001b[92m [DEBUG]: == [Content Writer] Task output: # Harnessing the Power of Artificial Intelligence: Trends, Players, and News\n",
      "\n",
      "Artificial Intelligence (AI) has become an integral part of our daily lives, transforming the way we interact with technology and improving efficiency across various industries. In this blog post, we will delve into the latest trends, key players, and noteworthy news in the field of AI, offering valuable insights for tech enthusiasts, business professionals, and anyone interested in cutting-edge developments in AI.\n",
      "\n",
      "## Latest Trends in AI\n",
      "\n",
      "One of the most prominent trends in AI is the advancements in Machine Learning and Deep Learning technologies. These innovations have enabled AI systems to learn from data, recognize patterns, and make decisions with minimal human intervention. Additionally, Natural Language Processing (NLP) applications have revolutionized the way we communicate with AI-powered devices, enhancing user experiences and expanding the capabilities of virtual assistants.\n",
      "\n",
      "AI-driven automation is another key trend, with industries leveraging AI technologies to streamline processes, increase productivity, and reduce operational costs. However, as AI continues to evolve, ethical considerations in AI development have become increasingly important. Ensuring transparency, accountability, and fairness in AI systems is crucial to building trust and mitigating potential risks associated with AI implementation.\n",
      "\n",
      "## Key Players in the AI Industry\n",
      "\n",
      "Several tech giants and innovative startups are leading the way in the AI industry, driving advancements and shaping the future of AI technology. Google's DeepMind, known for its contributions to AI research and development, continues to push the boundaries of AI capabilities. IBM Watson, Amazon Web Services (AWS), and Microsoft Azure are also key players in the AI space, offering AI-powered solutions and services to businesses worldwide. OpenAI, a nonprofit organization dedicated to advancing AI for the benefit of humanity, is another notable player in the industry.\n",
      "\n",
      "## Noteworthy News in AI\n",
      "\n",
      "In recent news, breakthroughs in AI healthcare solutions have shown promise in revolutionizing the healthcare industry, improving patient care, and enhancing medical diagnosis and treatment. AI applications in autonomous vehicles have also gained momentum, with companies investing in AI technologies to develop self-driving cars and enhance road safety. However, AI ethics controversies and discussions have sparked debates surrounding the responsible use of AI, privacy concerns, and bias in AI algorithms. On the cybersecurity front, AI advancements are being utilized to enhance threat detection, protect sensitive data, and strengthen cybersecurity defenses.\n",
      "\n",
      "In conclusion, Artificial Intelligence continues to drive innovation, transform industries, and shape our future. By staying informed about the latest trends, key players, and noteworthy news in AI, we can harness the power of AI to drive positive change and create a more efficient and sustainable future.\n",
      "\n",
      "To stay updated on the latest news and trends in Artificial Intelligence, subscribe to our newsletter for bi-weekly updates and exclusive content.\n",
      "\n",
      "\u001b[00m\n",
      "\u001b[1m\u001b[95m [DEBUG]: == Working Agent: Editor\u001b[00m\n",
      "\u001b[1m\u001b[95m [INFO]: == Starting Task: Proofread the given blog post for grammatical errors and alignment with the brand's voice.\u001b[00m\n",
      "\n",
      "\n",
      "\u001b[1m> Entering new CrewAgentExecutor chain...\u001b[0m\n"
     ]
    },
    {
     "name": "stdout",
     "output_type": "stream",
     "text": [
      "\u001b[32;1m\u001b[1;3mI now can give a great answer\n",
      "\n",
      "Final Answer:\n",
      "# Harnessing the Power of Artificial Intelligence: Trends, Players, and News\n",
      "\n",
      "Artificial Intelligence (AI) has become an integral part of our daily lives, transforming the way we interact with technology and improving efficiency across various industries. In this blog post, we will delve into the latest trends, key players, and noteworthy news in the field of AI, offering valuable insights for tech enthusiasts, business professionals, and anyone interested in cutting-edge developments in AI.\n",
      "\n",
      "## Latest Trends in AI\n",
      "\n",
      "One of the most prominent trends in AI is the advancements in Machine Learning and Deep Learning technologies. These innovations have enabled AI systems to learn from data, recognize patterns, and make decisions with minimal human intervention. Additionally, Natural Language Processing (NLP) applications have revolutionized the way we communicate with AI-powered devices, enhancing user experiences and expanding the capabilities of virtual assistants.\n",
      "\n",
      "AI-driven automation is another key trend, with industries leveraging AI technologies to streamline processes, increase productivity, and reduce operational costs. However, as AI continues to evolve, ethical considerations in AI development have become increasingly important. Ensuring transparency, accountability, and fairness in AI systems is crucial to building trust and mitigating potential risks associated with AI implementation.\n",
      "\n",
      "## Key Players in the AI Industry\n",
      "\n",
      "Several tech giants and innovative startups are leading the way in the AI industry, driving advancements and shaping the future of AI technology. Google's DeepMind, known for its contributions to AI research and development, continues to push the boundaries of AI capabilities. IBM Watson, Amazon Web Services (AWS), and Microsoft Azure are also key players in the AI space, offering AI-powered solutions and services to businesses worldwide. OpenAI, a nonprofit organization dedicated to advancing AI for the benefit of humanity, is another notable player in the industry.\n",
      "\n",
      "## Noteworthy News in AI\n",
      "\n",
      "In recent news, breakthroughs in AI healthcare solutions have shown promise in revolutionizing the healthcare industry, improving patient care, and enhancing medical diagnosis and treatment. AI applications in autonomous vehicles have also gained momentum, with companies investing in AI technologies to develop self-driving cars and enhance road safety. However, AI ethics controversies and discussions have sparked debates surrounding the responsible use of AI, privacy concerns, and bias in AI algorithms. On the cybersecurity front, AI advancements are being utilized to enhance threat detection, protect sensitive data, and strengthen cybersecurity defenses.\n",
      "\n",
      "In conclusion, Artificial Intelligence continues to drive innovation, transform industries, and shape our future. By staying informed about the latest trends, key players, and noteworthy news in AI, we can harness the power of AI to drive positive change and create a more efficient and sustainable future.\n",
      "\n",
      "To stay updated on the latest news and trends in Artificial Intelligence, subscribe to our newsletter for bi-weekly updates and exclusive content.\u001b[0m\n",
      "\n",
      "\u001b[1m> Finished chain.\u001b[0m\n",
      "\u001b[1m\u001b[92m [DEBUG]: == [Editor] Task output: # Harnessing the Power of Artificial Intelligence: Trends, Players, and News\n",
      "\n",
      "Artificial Intelligence (AI) has become an integral part of our daily lives, transforming the way we interact with technology and improving efficiency across various industries. In this blog post, we will delve into the latest trends, key players, and noteworthy news in the field of AI, offering valuable insights for tech enthusiasts, business professionals, and anyone interested in cutting-edge developments in AI.\n",
      "\n",
      "## Latest Trends in AI\n",
      "\n",
      "One of the most prominent trends in AI is the advancements in Machine Learning and Deep Learning technologies. These innovations have enabled AI systems to learn from data, recognize patterns, and make decisions with minimal human intervention. Additionally, Natural Language Processing (NLP) applications have revolutionized the way we communicate with AI-powered devices, enhancing user experiences and expanding the capabilities of virtual assistants.\n",
      "\n",
      "AI-driven automation is another key trend, with industries leveraging AI technologies to streamline processes, increase productivity, and reduce operational costs. However, as AI continues to evolve, ethical considerations in AI development have become increasingly important. Ensuring transparency, accountability, and fairness in AI systems is crucial to building trust and mitigating potential risks associated with AI implementation.\n",
      "\n",
      "## Key Players in the AI Industry\n",
      "\n",
      "Several tech giants and innovative startups are leading the way in the AI industry, driving advancements and shaping the future of AI technology. Google's DeepMind, known for its contributions to AI research and development, continues to push the boundaries of AI capabilities. IBM Watson, Amazon Web Services (AWS), and Microsoft Azure are also key players in the AI space, offering AI-powered solutions and services to businesses worldwide. OpenAI, a nonprofit organization dedicated to advancing AI for the benefit of humanity, is another notable player in the industry.\n",
      "\n",
      "## Noteworthy News in AI\n",
      "\n",
      "In recent news, breakthroughs in AI healthcare solutions have shown promise in revolutionizing the healthcare industry, improving patient care, and enhancing medical diagnosis and treatment. AI applications in autonomous vehicles have also gained momentum, with companies investing in AI technologies to develop self-driving cars and enhance road safety. However, AI ethics controversies and discussions have sparked debates surrounding the responsible use of AI, privacy concerns, and bias in AI algorithms. On the cybersecurity front, AI advancements are being utilized to enhance threat detection, protect sensitive data, and strengthen cybersecurity defenses.\n",
      "\n",
      "In conclusion, Artificial Intelligence continues to drive innovation, transform industries, and shape our future. By staying informed about the latest trends, key players, and noteworthy news in AI, we can harness the power of AI to drive positive change and create a more efficient and sustainable future.\n",
      "\n",
      "To stay updated on the latest news and trends in Artificial Intelligence, subscribe to our newsletter for bi-weekly updates and exclusive content.\n",
      "\n",
      "\u001b[00m\n"
     ]
    }
   ],
   "source": [
    "result = crew.kickoff(inputs={\"topic\": \"Artificial Intelligence\"})"
   ]
  },
  {
   "cell_type": "markdown",
   "metadata": {},
   "source": [
    "- Display the results of your execution as markdown in the notebook."
   ]
  },
  {
   "cell_type": "code",
   "execution_count": 12,
   "metadata": {
    "height": 47
   },
   "outputs": [
    {
     "data": {
      "text/markdown": [
       "# Harnessing the Power of Artificial Intelligence: Trends, Players, and News\n",
       "\n",
       "Artificial Intelligence (AI) has become an integral part of our daily lives, transforming the way we interact with technology and improving efficiency across various industries. In this blog post, we will delve into the latest trends, key players, and noteworthy news in the field of AI, offering valuable insights for tech enthusiasts, business professionals, and anyone interested in cutting-edge developments in AI.\n",
       "\n",
       "## Latest Trends in AI\n",
       "\n",
       "One of the most prominent trends in AI is the advancements in Machine Learning and Deep Learning technologies. These innovations have enabled AI systems to learn from data, recognize patterns, and make decisions with minimal human intervention. Additionally, Natural Language Processing (NLP) applications have revolutionized the way we communicate with AI-powered devices, enhancing user experiences and expanding the capabilities of virtual assistants.\n",
       "\n",
       "AI-driven automation is another key trend, with industries leveraging AI technologies to streamline processes, increase productivity, and reduce operational costs. However, as AI continues to evolve, ethical considerations in AI development have become increasingly important. Ensuring transparency, accountability, and fairness in AI systems is crucial to building trust and mitigating potential risks associated with AI implementation.\n",
       "\n",
       "## Key Players in the AI Industry\n",
       "\n",
       "Several tech giants and innovative startups are leading the way in the AI industry, driving advancements and shaping the future of AI technology. Google's DeepMind, known for its contributions to AI research and development, continues to push the boundaries of AI capabilities. IBM Watson, Amazon Web Services (AWS), and Microsoft Azure are also key players in the AI space, offering AI-powered solutions and services to businesses worldwide. OpenAI, a nonprofit organization dedicated to advancing AI for the benefit of humanity, is another notable player in the industry.\n",
       "\n",
       "## Noteworthy News in AI\n",
       "\n",
       "In recent news, breakthroughs in AI healthcare solutions have shown promise in revolutionizing the healthcare industry, improving patient care, and enhancing medical diagnosis and treatment. AI applications in autonomous vehicles have also gained momentum, with companies investing in AI technologies to develop self-driving cars and enhance road safety. However, AI ethics controversies and discussions have sparked debates surrounding the responsible use of AI, privacy concerns, and bias in AI algorithms. On the cybersecurity front, AI advancements are being utilized to enhance threat detection, protect sensitive data, and strengthen cybersecurity defenses.\n",
       "\n",
       "In conclusion, Artificial Intelligence continues to drive innovation, transform industries, and shape our future. By staying informed about the latest trends, key players, and noteworthy news in AI, we can harness the power of AI to drive positive change and create a more efficient and sustainable future.\n",
       "\n",
       "To stay updated on the latest news and trends in Artificial Intelligence, subscribe to our newsletter for bi-weekly updates and exclusive content."
      ],
      "text/plain": [
       "<IPython.core.display.Markdown object>"
      ]
     },
     "execution_count": 12,
     "metadata": {},
     "output_type": "execute_result"
    }
   ],
   "source": [
    "from IPython.display import Markdown\n",
    "Markdown(result)"
   ]
  },
  {
   "cell_type": "markdown",
   "metadata": {},
   "source": [
    "## Try it Yourself\n",
    "\n",
    "- Pass in a topic of your choice and see what the agents come up with!"
   ]
  },
  {
   "cell_type": "code",
   "execution_count": 13,
   "metadata": {
    "height": 64
   },
   "outputs": [
    {
     "name": "stdout",
     "output_type": "stream",
     "text": [
      "\u001b[1m\u001b[95m [DEBUG]: == Working Agent: Content Planner\u001b[00m\n",
      "\u001b[1m\u001b[95m [INFO]: == Starting Task: 1. Prioritize the latest trends, key players, and noteworthy news on YOUR TOPIC HERE.\n",
      "2. Identify the target audience, considering their interests and pain points.\n",
      "3. Develop a detailed content outline including an introduction, key points, and a call to action.\n",
      "4. Include SEO keywords and relevant data or sources.\u001b[00m\n",
      "\n",
      "\n",
      "\u001b[1m> Entering new CrewAgentExecutor chain...\u001b[0m\n",
      "\u001b[32;1m\u001b[1;3mI now can give a great answer\n",
      "\n",
      "Final Answer:\n",
      "\n",
      "Content Plan Document\n",
      "\n",
      "Title: Exploring the Latest Trends in Sustainable Fashion\n",
      "\n",
      "Introduction:\n",
      "- Brief overview of the current state of the fashion industry\n",
      "- Importance of sustainable fashion\n",
      "- Purpose of the article\n",
      "\n",
      "Key Points:\n",
      "1. Latest Trends in Sustainable Fashion\n",
      "- Rise of eco-friendly materials such as organic cotton, recycled polyester, and Tencel\n",
      "- Popularity of thrifting and second-hand shopping\n",
      "- Emphasis on ethical production practices and fair labor conditions\n",
      "\n",
      "2. Key Players in Sustainable Fashion\n",
      "- Brands leading the way in sustainable fashion, such as Patagonia, Eileen Fisher, and Reformation\n",
      "- Designers incorporating sustainability into their collections, like Stella McCartney and Mara Hoffman\n",
      "- Influencers promoting sustainable fashion choices to their followers\n",
      "\n",
      "3. Noteworthy News in Sustainable Fashion\n",
      "- Updates on sustainability initiatives from major fashion retailers\n",
      "- Events and collaborations promoting sustainable fashion practices\n",
      "- Legislation and regulations impacting the sustainable fashion industry\n",
      "\n",
      "Target Audience:\n",
      "- Millennials and Gen Z consumers interested in ethical and eco-friendly fashion choices\n",
      "- Fashion enthusiasts looking to make more sustainable shopping decisions\n",
      "- Environmentalists and social activists concerned about the impact of fast fashion\n",
      "\n",
      "SEO Keywords:\n",
      "- Sustainable fashion trends\n",
      "- Eco-friendly materials in fashion\n",
      "- Ethical fashion brands\n",
      "- Sustainable fashion news\n",
      "- Second-hand shopping tips\n",
      "\n",
      "Resources:\n",
      "1. Fashion Revolution - https://www.fashionrevolution.org/\n",
      "2. Sustainable Apparel Coalition - https://apparelcoalition.org/\n",
      "3. Good On You - https://goodonyou.eco/\n",
      "\n",
      "Call to Action:\n",
      "Encourage readers to support sustainable fashion brands, shop consciously, and spread awareness about the importance of ethical and eco-friendly practices in the fashion industry.\u001b[0m\n",
      "\n",
      "\u001b[1m> Finished chain.\u001b[0m\n",
      "\u001b[1m\u001b[92m [DEBUG]: == [Content Planner] Task output: Content Plan Document\n",
      "\n",
      "Title: Exploring the Latest Trends in Sustainable Fashion\n",
      "\n",
      "Introduction:\n",
      "- Brief overview of the current state of the fashion industry\n",
      "- Importance of sustainable fashion\n",
      "- Purpose of the article\n",
      "\n",
      "Key Points:\n",
      "1. Latest Trends in Sustainable Fashion\n",
      "- Rise of eco-friendly materials such as organic cotton, recycled polyester, and Tencel\n",
      "- Popularity of thrifting and second-hand shopping\n",
      "- Emphasis on ethical production practices and fair labor conditions\n",
      "\n",
      "2. Key Players in Sustainable Fashion\n",
      "- Brands leading the way in sustainable fashion, such as Patagonia, Eileen Fisher, and Reformation\n",
      "- Designers incorporating sustainability into their collections, like Stella McCartney and Mara Hoffman\n",
      "- Influencers promoting sustainable fashion choices to their followers\n",
      "\n",
      "3. Noteworthy News in Sustainable Fashion\n",
      "- Updates on sustainability initiatives from major fashion retailers\n",
      "- Events and collaborations promoting sustainable fashion practices\n",
      "- Legislation and regulations impacting the sustainable fashion industry\n",
      "\n",
      "Target Audience:\n",
      "- Millennials and Gen Z consumers interested in ethical and eco-friendly fashion choices\n",
      "- Fashion enthusiasts looking to make more sustainable shopping decisions\n",
      "- Environmentalists and social activists concerned about the impact of fast fashion\n",
      "\n",
      "SEO Keywords:\n",
      "- Sustainable fashion trends\n",
      "- Eco-friendly materials in fashion\n",
      "- Ethical fashion brands\n",
      "- Sustainable fashion news\n",
      "- Second-hand shopping tips\n",
      "\n",
      "Resources:\n",
      "1. Fashion Revolution - https://www.fashionrevolution.org/\n",
      "2. Sustainable Apparel Coalition - https://apparelcoalition.org/\n",
      "3. Good On You - https://goodonyou.eco/\n",
      "\n",
      "Call to Action:\n",
      "Encourage readers to support sustainable fashion brands, shop consciously, and spread awareness about the importance of ethical and eco-friendly practices in the fashion industry.\n",
      "\n",
      "\u001b[00m\n",
      "\u001b[1m\u001b[95m [DEBUG]: == Working Agent: Content Writer\u001b[00m\n",
      "\u001b[1m\u001b[95m [INFO]: == Starting Task: 1. Use the content plan to craft a compelling blog post on YOUR TOPIC HERE.\n",
      "2. Incorporate SEO keywords naturally.\n",
      "3. Sections/Subtitles are properly named in an engaging manner.\n",
      "4. Ensure the post is structured with an engaging introduction, insightful body, and a summarizing conclusion.\n",
      "5. Proofread for grammatical errors and alignment with the brand's voice.\n",
      "\u001b[00m\n",
      "\n",
      "\n",
      "\u001b[1m> Entering new CrewAgentExecutor chain...\u001b[0m\n",
      "\u001b[32;1m\u001b[1;3mI now can give a great answer\n",
      "\n",
      "Final Answer:\n",
      "\n",
      "# Exploring the Latest Trends in Sustainable Fashion\n",
      "\n",
      "In today's fast-paced world, the fashion industry has been under scrutiny for its environmental and social impact. With the rise of fast fashion and mass production, the detrimental effects on the planet and garment workers have become more apparent. This has led to a growing movement towards sustainable fashion, where the focus is on ethical production practices and eco-friendly materials.\n",
      "\n",
      "Sustainable fashion is not just a trend; it is a necessity for the future of the industry and the planet. The importance of sustainable fashion lies in its ability to reduce waste, lower carbon emissions, and promote fair labor conditions. This article aims to explore the latest trends in sustainable fashion, highlight key players in the industry, and discuss noteworthy news and initiatives that are shaping the future of fashion.\n",
      "\n",
      "## Latest Trends in Sustainable Fashion\n",
      "\n",
      "One of the key trends in sustainable fashion is the rise of eco-friendly materials. Brands are increasingly using materials such as organic cotton, recycled polyester, and Tencel to create environmentally friendly clothing. These materials not only reduce the carbon footprint of the fashion industry but also promote a more sustainable way of living. Another trend that has gained popularity is thrifting and second-hand shopping. Many fashion enthusiasts are turning to second-hand stores and online platforms to find unique pieces while reducing their impact on the environment. Additionally, there is a growing emphasis on ethical production practices and fair labor conditions. Brands are increasingly transparent about their supply chains and are taking steps to ensure that garment workers are treated fairly.\n",
      "\n",
      "## Key Players in Sustainable Fashion\n",
      "\n",
      "Several brands and designers are leading the way in sustainable fashion. Brands like Patagonia, Eileen Fisher, and Reformation have made a name for themselves by prioritizing sustainability in their collections. Designers such as Stella McCartney and Mara Hoffman are incorporating sustainability into their designs, proving that style and ethics can go hand in hand. Moreover, influencers play a crucial role in promoting sustainable fashion choices to their followers. By showcasing sustainable outfits and advocating for conscious consumerism, influencers are helping to drive the shift towards a more sustainable fashion industry.\n",
      "\n",
      "## Noteworthy News in Sustainable Fashion\n",
      "\n",
      "Stay updated on the latest sustainability initiatives from major fashion retailers by following organizations like the Sustainable Apparel Coalition and Good On You. These platforms provide valuable insights into the efforts being made to promote sustainability in the fashion industry. Additionally, keep an eye out for events and collaborations that promote sustainable fashion practices. By staying informed about legislation and regulations impacting the sustainable fashion industry, you can better understand the broader implications of your shopping choices.\n",
      "\n",
      "As we navigate the ever-evolving landscape of the fashion industry, it is essential to support sustainable fashion brands, shop consciously, and spread awareness about the importance of ethical and eco-friendly practices. Together, we can make a positive impact on the planet and create a more sustainable future for fashion. Join the movement towards a greener, more ethical fashion industry today.\u001b[0m\n",
      "\n",
      "\u001b[1m> Finished chain.\u001b[0m\n",
      "\u001b[1m\u001b[92m [DEBUG]: == [Content Writer] Task output: # Exploring the Latest Trends in Sustainable Fashion\n",
      "\n",
      "In today's fast-paced world, the fashion industry has been under scrutiny for its environmental and social impact. With the rise of fast fashion and mass production, the detrimental effects on the planet and garment workers have become more apparent. This has led to a growing movement towards sustainable fashion, where the focus is on ethical production practices and eco-friendly materials.\n",
      "\n",
      "Sustainable fashion is not just a trend; it is a necessity for the future of the industry and the planet. The importance of sustainable fashion lies in its ability to reduce waste, lower carbon emissions, and promote fair labor conditions. This article aims to explore the latest trends in sustainable fashion, highlight key players in the industry, and discuss noteworthy news and initiatives that are shaping the future of fashion.\n",
      "\n",
      "## Latest Trends in Sustainable Fashion\n",
      "\n",
      "One of the key trends in sustainable fashion is the rise of eco-friendly materials. Brands are increasingly using materials such as organic cotton, recycled polyester, and Tencel to create environmentally friendly clothing. These materials not only reduce the carbon footprint of the fashion industry but also promote a more sustainable way of living. Another trend that has gained popularity is thrifting and second-hand shopping. Many fashion enthusiasts are turning to second-hand stores and online platforms to find unique pieces while reducing their impact on the environment. Additionally, there is a growing emphasis on ethical production practices and fair labor conditions. Brands are increasingly transparent about their supply chains and are taking steps to ensure that garment workers are treated fairly.\n",
      "\n",
      "## Key Players in Sustainable Fashion\n",
      "\n",
      "Several brands and designers are leading the way in sustainable fashion. Brands like Patagonia, Eileen Fisher, and Reformation have made a name for themselves by prioritizing sustainability in their collections. Designers such as Stella McCartney and Mara Hoffman are incorporating sustainability into their designs, proving that style and ethics can go hand in hand. Moreover, influencers play a crucial role in promoting sustainable fashion choices to their followers. By showcasing sustainable outfits and advocating for conscious consumerism, influencers are helping to drive the shift towards a more sustainable fashion industry.\n",
      "\n",
      "## Noteworthy News in Sustainable Fashion\n",
      "\n",
      "Stay updated on the latest sustainability initiatives from major fashion retailers by following organizations like the Sustainable Apparel Coalition and Good On You. These platforms provide valuable insights into the efforts being made to promote sustainability in the fashion industry. Additionally, keep an eye out for events and collaborations that promote sustainable fashion practices. By staying informed about legislation and regulations impacting the sustainable fashion industry, you can better understand the broader implications of your shopping choices.\n",
      "\n",
      "As we navigate the ever-evolving landscape of the fashion industry, it is essential to support sustainable fashion brands, shop consciously, and spread awareness about the importance of ethical and eco-friendly practices. Together, we can make a positive impact on the planet and create a more sustainable future for fashion. Join the movement towards a greener, more ethical fashion industry today.\n",
      "\n",
      "\u001b[00m\n",
      "\u001b[1m\u001b[95m [DEBUG]: == Working Agent: Editor\u001b[00m\n",
      "\u001b[1m\u001b[95m [INFO]: == Starting Task: Proofread the given blog post for grammatical errors and alignment with the brand's voice.\u001b[00m\n",
      "\n",
      "\n",
      "\u001b[1m> Entering new CrewAgentExecutor chain...\u001b[0m\n"
     ]
    },
    {
     "name": "stdout",
     "output_type": "stream",
     "text": [
      "\u001b[32;1m\u001b[1;3mI now can give a great answer\n",
      "\n",
      "Final Answer:\n",
      "# Exploring the Latest Trends in Sustainable Fashion\n",
      "\n",
      "In today's fast-paced world, the fashion industry has come under increasing scrutiny for its environmental and social impact. The rise of fast fashion and mass production has highlighted the negative effects on the planet and garment workers, leading to a growing movement towards sustainable fashion. This shift towards sustainable practices emphasizes ethical production methods and the use of eco-friendly materials to minimize the industry's environmental footprint.\n",
      "\n",
      "Sustainable fashion is not merely a passing trend; it is a crucial step towards securing a more sustainable future for both the fashion industry and the planet as a whole. By focusing on reducing waste, lowering carbon emissions, and ensuring fair labor conditions, sustainable fashion advocates for a more responsible and conscious approach to clothing production. This article aims to delve into the latest trends in sustainable fashion, shed light on key industry players, and explore notable news and initiatives that are shaping the future of fashion.\n",
      "\n",
      "## Latest Trends in Sustainable Fashion\n",
      "\n",
      "One prominent trend in sustainable fashion is the increasing use of eco-friendly materials by brands. From organic cotton to recycled polyester and Tencel, fashion labels are shifting towards sustainable materials to create environmentally conscious clothing. These materials not only help reduce the fashion industry's carbon footprint but also encourage a more sustainable lifestyle among consumers. Another significant trend is the growing popularity of thrifting and second-hand shopping, where fashion enthusiasts can find unique pieces while reducing their environmental impact. Furthermore, ethical production practices and fair labor conditions are gaining importance in the industry, with brands striving for transparency in their supply chains and ensuring fair treatment of garment workers.\n",
      "\n",
      "## Key Players in Sustainable Fashion\n",
      "\n",
      "Numerous brands and designers are at the forefront of sustainable fashion, setting an example for the industry. Companies like Patagonia, Eileen Fisher, and Reformation have established themselves as leaders in sustainability by prioritizing ethical practices in their collections. Designers such as Stella McCartney and Mara Hoffman are integrating sustainability into their designs, showcasing the harmonious blend of style and ethics. Additionally, influencers play a pivotal role in promoting sustainable fashion choices to their audience, advocating for conscious consumerism and driving the shift towards a more sustainable fashion landscape.\n",
      "\n",
      "## Noteworthy News in Sustainable Fashion\n",
      "\n",
      "Stay informed about the latest sustainability initiatives by following organizations like the Sustainable Apparel Coalition and Good On You, which provide valuable insights into efforts to promote sustainability in the fashion sector. Keep an eye out for events and collaborations that endorse sustainable fashion practices, and stay updated on legislation and regulations impacting the sustainable fashion industry to better comprehend the implications of your shopping decisions. As we navigate the dynamic world of fashion, supporting sustainable brands, making conscious shopping choices, and raising awareness about ethical and eco-friendly practices are essential steps towards creating a more sustainable future for fashion. Embrace the movement towards a greener, more ethical fashion industry today.\u001b[0m\n",
      "\n",
      "\u001b[1m> Finished chain.\u001b[0m\n",
      "\u001b[1m\u001b[92m [DEBUG]: == [Editor] Task output: # Exploring the Latest Trends in Sustainable Fashion\n",
      "\n",
      "In today's fast-paced world, the fashion industry has come under increasing scrutiny for its environmental and social impact. The rise of fast fashion and mass production has highlighted the negative effects on the planet and garment workers, leading to a growing movement towards sustainable fashion. This shift towards sustainable practices emphasizes ethical production methods and the use of eco-friendly materials to minimize the industry's environmental footprint.\n",
      "\n",
      "Sustainable fashion is not merely a passing trend; it is a crucial step towards securing a more sustainable future for both the fashion industry and the planet as a whole. By focusing on reducing waste, lowering carbon emissions, and ensuring fair labor conditions, sustainable fashion advocates for a more responsible and conscious approach to clothing production. This article aims to delve into the latest trends in sustainable fashion, shed light on key industry players, and explore notable news and initiatives that are shaping the future of fashion.\n",
      "\n",
      "## Latest Trends in Sustainable Fashion\n",
      "\n",
      "One prominent trend in sustainable fashion is the increasing use of eco-friendly materials by brands. From organic cotton to recycled polyester and Tencel, fashion labels are shifting towards sustainable materials to create environmentally conscious clothing. These materials not only help reduce the fashion industry's carbon footprint but also encourage a more sustainable lifestyle among consumers. Another significant trend is the growing popularity of thrifting and second-hand shopping, where fashion enthusiasts can find unique pieces while reducing their environmental impact. Furthermore, ethical production practices and fair labor conditions are gaining importance in the industry, with brands striving for transparency in their supply chains and ensuring fair treatment of garment workers.\n",
      "\n",
      "## Key Players in Sustainable Fashion\n",
      "\n",
      "Numerous brands and designers are at the forefront of sustainable fashion, setting an example for the industry. Companies like Patagonia, Eileen Fisher, and Reformation have established themselves as leaders in sustainability by prioritizing ethical practices in their collections. Designers such as Stella McCartney and Mara Hoffman are integrating sustainability into their designs, showcasing the harmonious blend of style and ethics. Additionally, influencers play a pivotal role in promoting sustainable fashion choices to their audience, advocating for conscious consumerism and driving the shift towards a more sustainable fashion landscape.\n",
      "\n",
      "## Noteworthy News in Sustainable Fashion\n",
      "\n",
      "Stay informed about the latest sustainability initiatives by following organizations like the Sustainable Apparel Coalition and Good On You, which provide valuable insights into efforts to promote sustainability in the fashion sector. Keep an eye out for events and collaborations that endorse sustainable fashion practices, and stay updated on legislation and regulations impacting the sustainable fashion industry to better comprehend the implications of your shopping decisions. As we navigate the dynamic world of fashion, supporting sustainable brands, making conscious shopping choices, and raising awareness about ethical and eco-friendly practices are essential steps towards creating a more sustainable future for fashion. Embrace the movement towards a greener, more ethical fashion industry today.\n",
      "\n",
      "\u001b[00m\n"
     ]
    }
   ],
   "source": [
    "topic = \"YOUR TOPIC HERE\"\n",
    "result = crew.kickoff(inputs={\"topic\": topic})"
   ]
  },
  {
   "cell_type": "code",
   "execution_count": null,
   "metadata": {
    "height": 30
   },
   "outputs": [],
   "source": [
    "Markdown(result)"
   ]
  },
  {
   "cell_type": "markdown",
   "metadata": {},
   "source": [
    "<a name='1'></a>\n",
    " ## Other Popular Models as LLM for your Agents"
   ]
  },
  {
   "cell_type": "markdown",
   "metadata": {},
   "source": [
    "#### Hugging Face (HuggingFaceHub endpoint)\n",
    "\n",
    "```Python\n",
    "from langchain_community.llms import HuggingFaceHub\n",
    "\n",
    "llm = HuggingFaceHub(\n",
    "    repo_id=\"HuggingFaceH4/zephyr-7b-beta\",\n",
    "    huggingfacehub_api_token=\"<HF_TOKEN_HERE>\",\n",
    "    task=\"text-generation\",\n",
    ")\n",
    "\n",
    "### you will pass \"llm\" to your agent function\n",
    "```"
   ]
  },
  {
   "cell_type": "markdown",
   "metadata": {},
   "source": [
    "#### Mistral API\n",
    "\n",
    "```Python\n",
    "OPENAI_API_KEY=your-mistral-api-key\n",
    "OPENAI_API_BASE=https://api.mistral.ai/v1\n",
    "OPENAI_MODEL_NAME=\"mistral-small\"\n",
    "```"
   ]
  },
  {
   "cell_type": "markdown",
   "metadata": {},
   "source": [
    "#### Cohere\n",
    "\n",
    "```Python\n",
    "from langchain_community.chat_models import ChatCohere\n",
    "# Initialize language model\n",
    "os.environ[\"COHERE_API_KEY\"] = \"your-cohere-api-key\"\n",
    "llm = ChatCohere()\n",
    "\n",
    "### you will pass \"llm\" to your agent function\n",
    "```"
   ]
  },
  {
   "cell_type": "markdown",
   "metadata": {},
   "source": [
    "### For using Llama locally with Ollama and more, checkout the crewAI documentation on [Connecting to any LLM](https://docs.crewai.com/how-to/LLM-Connections/)."
   ]
  },
  {
   "cell_type": "code",
   "execution_count": null,
   "metadata": {
    "height": 30
   },
   "outputs": [],
   "source": []
  },
  {
   "cell_type": "code",
   "execution_count": null,
   "metadata": {
    "height": 30
   },
   "outputs": [],
   "source": []
  },
  {
   "cell_type": "code",
   "execution_count": null,
   "metadata": {
    "height": 30
   },
   "outputs": [],
   "source": []
  }
 ],
 "metadata": {
  "colab": {
   "gpuType": "T4",
   "provenance": []
  },
  "kernelspec": {
   "display_name": "Python 3 (ipykernel)",
   "language": "python",
   "name": "python3"
  },
  "language_info": {
   "codemirror_mode": {
    "name": "ipython",
    "version": 3
   },
   "file_extension": ".py",
   "mimetype": "text/x-python",
   "name": "python",
   "nbconvert_exporter": "python",
   "pygments_lexer": "ipython3",
   "version": "3.11.9"
  }
 },
 "nbformat": 4,
 "nbformat_minor": 4
}
